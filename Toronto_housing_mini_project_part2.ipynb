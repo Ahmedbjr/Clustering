{
 "cells": [
  {
   "cell_type": "markdown",
   "metadata": {
    "collapsed": true
   },
   "source": [
    "## Sumarry\n",
    "\n",
    "First part on mini-project about Segmenting and Clustering Neighborhoods in Toronto. \n",
    "\n",
    "This notebook scraps data from wikipedia and pre-processes it"
   ]
  },
  {
   "cell_type": "code",
   "execution_count": 1,
   "metadata": {},
   "outputs": [],
   "source": [
    "import pandas as pd\n",
    "import numpy as np\n",
    "import geocoder\n",
    "#import folium\n",
    "\n",
    "\n",
    "#!conda install -c anaconda beautifulsoup4\n",
    "#!conda install -c conda-forge geocoder\n",
    "#!conda install -c conda-forge folium=0.5.0 --yes"
   ]
  },
  {
   "cell_type": "code",
   "execution_count": 2,
   "metadata": {},
   "outputs": [],
   "source": [
    "from bs4 import BeautifulSoup\n",
    "import requests\n",
    "\n",
    "page = requests.get(\"https://en.wikipedia.org/wiki/List_of_postal_codes_of_Canada:_M\")\n",
    "\n",
    "soup = BeautifulSoup(page.content, 'html.parser')\n",
    "#print(soup.prettify())\n",
    "\n",
    "#My_table = soup.find('table',{'class':'wikitable sortable jquery-tablesorter'})\n",
    "My_table = soup.find('tbody')\n",
    "\n",
    "postCodeList = []\n",
    "boroughList = []\n",
    "neighbourhoodList = []\n",
    "\n",
    "for row in My_table.find_all('tr'):\n",
    "    try:\n",
    "        rowValue = row.find_all('td')\n",
    "        postCodeList.append(rowValue[0].text)\n",
    "        boroughList.append(rowValue[1].text)\n",
    "        neighbourhoodList.append((rowValue[2].text)[:-1])\n",
    "    except IndexError:pass\n",
    "    \n",
    "\n",
    "#print(neighbourhoodList)\n",
    "\n",
    "    \n",
    "df = pd.DataFrame()\n",
    "df['PostalCode'] = postCodeList\n",
    "df['Borough'] = boroughList\n",
    "df['Neighbourhood'] = neighbourhoodList\n",
    "\n",
    "df = df[df.Borough != 'Not assigned']\n",
    "df = df.groupby(('PostalCode','Borough')).agg([('Neighbourhood', ', '.join)]).reset_index()\n",
    "\n",
    "for index, row in df.iterrows():\n",
    "    neighbourhood = row['Neighbourhood']\n",
    "\n",
    "    if neighbourhood.item() == 'Not assigned':\n",
    "        row['Neighbourhood'] = row['Borough']\n",
    "\n",
    "df_scrapped = pd.DataFrame()\n",
    "df_scrapped['PostalCode']= df.iloc[:,0].copy()\n",
    "df_scrapped['Borough']= df.iloc[:,1].copy()\n",
    "df_scrapped['Neighbourhood']= df.iloc[:,2].copy()"
   ]
  },
  {
   "cell_type": "code",
   "execution_count": null,
   "metadata": {},
   "outputs": [],
   "source": [
    "df_scrapped.head(20)"
   ]
  },
  {
   "cell_type": "code",
   "execution_count": null,
   "metadata": {},
   "outputs": [],
   "source": [
    "df_scrapped.shape"
   ]
  },
  {
   "cell_type": "code",
   "execution_count": 3,
   "metadata": {},
   "outputs": [
    {
     "name": "stdout",
     "output_type": "stream",
     "text": [
      "--2019-06-03 15:51:33--  https://cocl.us/Geospatial_data\n",
      "Resolving cocl.us (cocl.us)... 169.48.113.201\n",
      "Connecting to cocl.us (cocl.us)|169.48.113.201|:443... connected.\n",
      "HTTP request sent, awaiting response... 301 Moved Permanently\n",
      "Location: https://ibm.box.com/shared/static/9afzr83pps4pwf2smjjcf1y5mvgb18rr.csv [following]\n",
      "--2019-06-03 15:51:34--  https://ibm.box.com/shared/static/9afzr83pps4pwf2smjjcf1y5mvgb18rr.csv\n",
      "Resolving ibm.box.com (ibm.box.com)... 107.152.26.197\n",
      "Connecting to ibm.box.com (ibm.box.com)|107.152.26.197|:443... connected.\n",
      "HTTP request sent, awaiting response... 301 Moved Permanently\n",
      "Location: /public/static/9afzr83pps4pwf2smjjcf1y5mvgb18rr.csv [following]\n",
      "--2019-06-03 15:51:35--  https://ibm.box.com/public/static/9afzr83pps4pwf2smjjcf1y5mvgb18rr.csv\n",
      "Reusing existing connection to ibm.box.com:443.\n",
      "HTTP request sent, awaiting response... 301 Moved Permanently\n",
      "Location: https://ibm.ent.box.com/public/static/9afzr83pps4pwf2smjjcf1y5mvgb18rr.csv [following]\n",
      "--2019-06-03 15:51:35--  https://ibm.ent.box.com/public/static/9afzr83pps4pwf2smjjcf1y5mvgb18rr.csv\n",
      "Resolving ibm.ent.box.com (ibm.ent.box.com)... 107.152.27.211\n",
      "Connecting to ibm.ent.box.com (ibm.ent.box.com)|107.152.27.211|:443... connected.\n",
      "HTTP request sent, awaiting response... 302 Found\n",
      "Location: https://public.boxcloud.com/d/1/b1!i31IbTLrclYVksewWRxyIPtcQKFSfSzmH9pboq1BEhGAYZAa9EfhHT2FCrNG2RWZ17Bp_d89ySkF-0hL8Crxzgw1qV3N38GsZpJVnCycAGySGvMitpPjOKSHvBO7NAC0by_qSLnie3Ui-OtQrgetvOZttXAAIc45KrxsCwN6C35P0_N45y105b7qHv2BfUBJecK6YNL_q5VklQrBNndA4wp1g9UPw1pMsW7c599jzB7k3WdvpEA1EAp84jngrZVnPrTsgMHh-HRH7q3vuiySUV1odfcZHdDRWBCcCBycjk6GWwqA8zluqlFN3-B8dvF-TzgHo0iF-0UAUTgo7n-R1tUGaRJyozSmBe8n7VdV8bIb7X_VOEl592AU3Al_6uwEobGeFwg3TMFVvMAxykPIzv-AavomHcPnzq_wbFwHjONwpuT_0KvWEzoGVGy3XH4QqiiNigRzwW6VpPh8wxYa3b2E2rXqlY3GDWD5pV7jkG8afM-jZ2vqyAfER1bEQadRJIinmNLkQfGxSg1DDwduPc_hHvwfwXFTJ0ykNwkU-SVnWJ0Z-HDJ25en6l3CCs5V3DBodqSxV4i6bYsq1IPMu4vJOd3WJ8slw8ibaFqRbFaKR4vED-akIswFGocg5EcxAIlsiT7FKUxHfoVv80pP11SZVK8mCPOksFAmVAFKD_zx0g9FiUewOM5hkz2CCBTCtF-Bj220a1chd-8lOqIxJgwf0nyVKHD0Mu8nYKY0OhWnkqmjjbDaEt3J9qejm0Q4Ikp1vVFo7jA8f7av-J3m3osKOAlrmtw7M0IJDKNWW5hMNYzHQxKmkHTYxWDl7saHrI389j9XsUhqjbtmUbm4ucDWMUR-nKiRR1Fh31zyeEWlkHvzsEiQbg3WJ6dlKgh1Rjmlju2Zf3dj5KWxPUJJet1Wg-j9ptiS0jwGdPOm46EMCzdVMTJ76YxhzGV_Sr9qa31Ts_4bp5Rjm-NdI-FvHoCdr0nQwNxSP_Y5i0e6k8hi3-YGeBLU2XyzlAua9vtxlaFQ2e-yH1W7duVpobQKLtyPHe1nTuK2OKivzOGCrzADQ7vANhOt1mB9787MnkDOfzB1nX1PE_CLpn0N33LX_6lvo6Dszny24-yOgmHPIAwwGXSMD0l2mFLYJTHLfRhUhG9h7JSpn7HWBSpD6TmxxQX9bBTjAaw0YDNWgPuQecADYRXlNupeH2Bl9FCo9Zisfcv3PJQyNdd8jy2aQqyddRIZGSZab3PeXwxBmOkEYa-VrAF-87_XAnjaadJ9q2AoTWOPYs4SAo7VFB46HyVFmRyFvhdR9PJHAzvDHzQdnuCX_8efHlJf15JW71N0dcYyteD9UR1JWIdURS3StBkYkNfrt5FTsWbgt2dpXD0f2fdWV4RFljPsdM4./download [following]\n",
      "--2019-06-03 15:51:36--  https://public.boxcloud.com/d/1/b1!i31IbTLrclYVksewWRxyIPtcQKFSfSzmH9pboq1BEhGAYZAa9EfhHT2FCrNG2RWZ17Bp_d89ySkF-0hL8Crxzgw1qV3N38GsZpJVnCycAGySGvMitpPjOKSHvBO7NAC0by_qSLnie3Ui-OtQrgetvOZttXAAIc45KrxsCwN6C35P0_N45y105b7qHv2BfUBJecK6YNL_q5VklQrBNndA4wp1g9UPw1pMsW7c599jzB7k3WdvpEA1EAp84jngrZVnPrTsgMHh-HRH7q3vuiySUV1odfcZHdDRWBCcCBycjk6GWwqA8zluqlFN3-B8dvF-TzgHo0iF-0UAUTgo7n-R1tUGaRJyozSmBe8n7VdV8bIb7X_VOEl592AU3Al_6uwEobGeFwg3TMFVvMAxykPIzv-AavomHcPnzq_wbFwHjONwpuT_0KvWEzoGVGy3XH4QqiiNigRzwW6VpPh8wxYa3b2E2rXqlY3GDWD5pV7jkG8afM-jZ2vqyAfER1bEQadRJIinmNLkQfGxSg1DDwduPc_hHvwfwXFTJ0ykNwkU-SVnWJ0Z-HDJ25en6l3CCs5V3DBodqSxV4i6bYsq1IPMu4vJOd3WJ8slw8ibaFqRbFaKR4vED-akIswFGocg5EcxAIlsiT7FKUxHfoVv80pP11SZVK8mCPOksFAmVAFKD_zx0g9FiUewOM5hkz2CCBTCtF-Bj220a1chd-8lOqIxJgwf0nyVKHD0Mu8nYKY0OhWnkqmjjbDaEt3J9qejm0Q4Ikp1vVFo7jA8f7av-J3m3osKOAlrmtw7M0IJDKNWW5hMNYzHQxKmkHTYxWDl7saHrI389j9XsUhqjbtmUbm4ucDWMUR-nKiRR1Fh31zyeEWlkHvzsEiQbg3WJ6dlKgh1Rjmlju2Zf3dj5KWxPUJJet1Wg-j9ptiS0jwGdPOm46EMCzdVMTJ76YxhzGV_Sr9qa31Ts_4bp5Rjm-NdI-FvHoCdr0nQwNxSP_Y5i0e6k8hi3-YGeBLU2XyzlAua9vtxlaFQ2e-yH1W7duVpobQKLtyPHe1nTuK2OKivzOGCrzADQ7vANhOt1mB9787MnkDOfzB1nX1PE_CLpn0N33LX_6lvo6Dszny24-yOgmHPIAwwGXSMD0l2mFLYJTHLfRhUhG9h7JSpn7HWBSpD6TmxxQX9bBTjAaw0YDNWgPuQecADYRXlNupeH2Bl9FCo9Zisfcv3PJQyNdd8jy2aQqyddRIZGSZab3PeXwxBmOkEYa-VrAF-87_XAnjaadJ9q2AoTWOPYs4SAo7VFB46HyVFmRyFvhdR9PJHAzvDHzQdnuCX_8efHlJf15JW71N0dcYyteD9UR1JWIdURS3StBkYkNfrt5FTsWbgt2dpXD0f2fdWV4RFljPsdM4./download\n",
      "Resolving public.boxcloud.com (public.boxcloud.com)... 107.152.24.200, 107.152.25.200\n",
      "Connecting to public.boxcloud.com (public.boxcloud.com)|107.152.24.200|:443... connected.\n",
      "HTTP request sent, awaiting response... 200 OK\n",
      "Length: 2891 (2.8K) [text/csv]\n",
      "Saving to: ‘postal_code.csv’\n",
      "\n",
      "100%[======================================>] 2,891       --.-K/s   in 0s      \n",
      "\n",
      "2019-06-03 15:51:36 (480 MB/s) - ‘postal_code.csv’ saved [2891/2891]\n",
      "\n"
     ]
    },
    {
     "data": {
      "text/html": [
       "<div>\n",
       "<style scoped>\n",
       "    .dataframe tbody tr th:only-of-type {\n",
       "        vertical-align: middle;\n",
       "    }\n",
       "\n",
       "    .dataframe tbody tr th {\n",
       "        vertical-align: top;\n",
       "    }\n",
       "\n",
       "    .dataframe thead th {\n",
       "        text-align: right;\n",
       "    }\n",
       "</style>\n",
       "<table border=\"1\" class=\"dataframe\">\n",
       "  <thead>\n",
       "    <tr style=\"text-align: right;\">\n",
       "      <th></th>\n",
       "      <th>PostalCode</th>\n",
       "      <th>Borough</th>\n",
       "      <th>Neighbourhood</th>\n",
       "      <th>Latitude</th>\n",
       "      <th>Longitude</th>\n",
       "    </tr>\n",
       "  </thead>\n",
       "  <tbody>\n",
       "    <tr>\n",
       "      <th>0</th>\n",
       "      <td>M1B</td>\n",
       "      <td>Scarborough</td>\n",
       "      <td>Rouge, Malvern</td>\n",
       "      <td>43.806686</td>\n",
       "      <td>-79.194353</td>\n",
       "    </tr>\n",
       "    <tr>\n",
       "      <th>1</th>\n",
       "      <td>M1C</td>\n",
       "      <td>Scarborough</td>\n",
       "      <td>Highland Creek, Rouge Hill, Port Union</td>\n",
       "      <td>43.784535</td>\n",
       "      <td>-79.160497</td>\n",
       "    </tr>\n",
       "    <tr>\n",
       "      <th>2</th>\n",
       "      <td>M1E</td>\n",
       "      <td>Scarborough</td>\n",
       "      <td>Guildwood, Morningside, West Hill</td>\n",
       "      <td>43.763573</td>\n",
       "      <td>-79.188711</td>\n",
       "    </tr>\n",
       "    <tr>\n",
       "      <th>3</th>\n",
       "      <td>M1G</td>\n",
       "      <td>Scarborough</td>\n",
       "      <td>Woburn</td>\n",
       "      <td>43.770992</td>\n",
       "      <td>-79.216917</td>\n",
       "    </tr>\n",
       "    <tr>\n",
       "      <th>4</th>\n",
       "      <td>M1H</td>\n",
       "      <td>Scarborough</td>\n",
       "      <td>Cedarbrae</td>\n",
       "      <td>43.773136</td>\n",
       "      <td>-79.239476</td>\n",
       "    </tr>\n",
       "  </tbody>\n",
       "</table>\n",
       "</div>"
      ],
      "text/plain": [
       "  PostalCode      Borough                           Neighbourhood   Latitude  \\\n",
       "0        M1B  Scarborough                          Rouge, Malvern  43.806686   \n",
       "1        M1C  Scarborough  Highland Creek, Rouge Hill, Port Union  43.784535   \n",
       "2        M1E  Scarborough       Guildwood, Morningside, West Hill  43.763573   \n",
       "3        M1G  Scarborough                                  Woburn  43.770992   \n",
       "4        M1H  Scarborough                               Cedarbrae  43.773136   \n",
       "\n",
       "   Longitude  \n",
       "0 -79.194353  \n",
       "1 -79.160497  \n",
       "2 -79.188711  \n",
       "3 -79.216917  \n",
       "4 -79.239476  "
      ]
     },
     "execution_count": 3,
     "metadata": {},
     "output_type": "execute_result"
    }
   ],
   "source": [
    "!wget -O postal_code.csv https://cocl.us/Geospatial_data\n",
    "postal_df = pd.read_csv('postal_code.csv')\n",
    "postal_df = postal_df.rename(columns={'Postal Code':'PostalCode'})\n",
    "\n",
    "df_complete  = pd.merge(df_scrapped, postal_df, on='PostalCode')\n",
    "\n",
    "df_complete.head()\n"
   ]
  },
  {
   "cell_type": "code",
   "execution_count": 4,
   "metadata": {},
   "outputs": [
    {
     "data": {
      "text/plain": [
       "(103, 3)"
      ]
     },
     "execution_count": 4,
     "metadata": {},
     "output_type": "execute_result"
    }
   ],
   "source": [
    "df_scrapped.shape"
   ]
  },
  {
   "cell_type": "code",
   "execution_count": null,
   "metadata": {},
   "outputs": [],
   "source": []
  }
 ],
 "metadata": {
  "kernelspec": {
   "display_name": "Python 3.5",
   "language": "python",
   "name": "python3"
  },
  "language_info": {
   "codemirror_mode": {
    "name": "ipython",
    "version": 3
   },
   "file_extension": ".py",
   "mimetype": "text/x-python",
   "name": "python",
   "nbconvert_exporter": "python",
   "pygments_lexer": "ipython3",
   "version": "3.5.5"
  }
 },
 "nbformat": 4,
 "nbformat_minor": 1
}
