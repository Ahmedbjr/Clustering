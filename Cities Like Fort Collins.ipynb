{
 "cells": [
  {
   "cell_type": "markdown",
   "metadata": {
    "collapsed": true
   },
   "source": [
    "# 1. Introduction/Business Problem"
   ]
  },
  {
   "attachments": {},
   "cell_type": "markdown",
   "metadata": {},
   "source": [
    "My wife loves Fort Collins, Colorado. It's about a 45 mins drive from where we live in Cheyenne Wyoming, and we potentially plan to live in Fort Collins in the future. However, we do not want to overly restrict our options, in terms of cities in Colorado. Because, for example, we both may not get employment in Fort Collins. It would be good to have a potential list of places similar to Fort Collins that we can both consider applying for jobs in. Therefore my capstone will focus on segmenting the cities in Colorado and highlighting what cities are similar to Fort Collins so that it may guide our future career planning prospects and life goals. This capstone will leverage foursquare data for the top 50 cities in Colorado to group these cities into clusters"
   ]
  },
  {
   "cell_type": "markdown",
   "metadata": {},
   "source": [
    "# 2. Data"
   ]
  },
  {
   "cell_type": "markdown",
   "metadata": {},
   "source": [
    "I'll be using a number of data sources. First, Forsquare, offcourse to get venues in the cities under consideration. This will help chracterize each city based on the type of commecercial are present in the city.\n",
    "Then here's the wikipedia wikipedia article <a href=\"https://en.wikipedia.org/wiki/List_of_cities_and_towns_in_Colorado\">list of cities and towns in Colorado</a> that will provide me with cities to consider. Finally, I'll use geopy library to get the latitude and longitude information of the cities. With all these information, I'll be able to segment cities in Colorado."
   ]
  },
  {
   "cell_type": "code",
   "execution_count": null,
   "metadata": {},
   "outputs": [],
   "source": []
  }
 ],
 "metadata": {
  "kernelspec": {
   "display_name": "Python 3.5",
   "language": "python",
   "name": "python3"
  },
  "language_info": {
   "codemirror_mode": {
    "name": "ipython",
    "version": 3
   },
   "file_extension": ".py",
   "mimetype": "text/x-python",
   "name": "python",
   "nbconvert_exporter": "python",
   "pygments_lexer": "ipython3",
   "version": "3.5.5"
  }
 },
 "nbformat": 4,
 "nbformat_minor": 1
}
